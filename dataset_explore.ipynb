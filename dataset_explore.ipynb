{
 "cells": [
  {
   "cell_type": "code",
   "execution_count": 1,
   "metadata": {},
   "outputs": [],
   "source": [
    "import datetime\n",
    "import os\n",
    "from typing import Callable, Optional\n",
    "import pandas as pd\n",
    "from sklearn import preprocessing\n",
    "import numpy as np\n",
    "import torch\n",
    "\n",
    "from torch_geometric.data import (\n",
    "    Data,\n",
    "    InMemoryDataset\n",
    ")\n",
    "\n",
    "pd.set_option('display.max_columns', None)\n",
    "path = '../raw/HI-Small_Trans.csv'\n",
    "df = pd.read_csv(path)"
   ]
  },
  {
   "cell_type": "code",
   "execution_count": 2,
   "metadata": {},
   "outputs": [
    {
     "name": "stdout",
     "output_type": "stream",
     "text": [
      "          Timestamp  From Bank    Account  To Bank  Account.1  \\\n",
      "0  2022/09/01 00:20         10  8000EBD30       10  8000EBD30   \n",
      "1  2022/09/01 00:20       3208  8000F4580        1  8000F5340   \n",
      "2  2022/09/01 00:00       3209  8000F4670     3209  8000F4670   \n",
      "3  2022/09/01 00:02         12  8000F5030       12  8000F5030   \n",
      "4  2022/09/01 00:06         10  8000F5200       10  8000F5200   \n",
      "\n",
      "   Amount Received Receiving Currency  Amount Paid Payment Currency  \\\n",
      "0          3697.34          US Dollar      3697.34        US Dollar   \n",
      "1             0.01          US Dollar         0.01        US Dollar   \n",
      "2         14675.57          US Dollar     14675.57        US Dollar   \n",
      "3          2806.97          US Dollar      2806.97        US Dollar   \n",
      "4         36682.97          US Dollar     36682.97        US Dollar   \n",
      "\n",
      "  Payment Format  Is Laundering  \n",
      "0   Reinvestment              0  \n",
      "1         Cheque              0  \n",
      "2   Reinvestment              0  \n",
      "3   Reinvestment              0  \n",
      "4   Reinvestment              0  \n"
     ]
    }
   ],
   "source": [
    "print(df.head())"
   ]
  },
  {
   "cell_type": "code",
   "execution_count": 4,
   "metadata": {},
   "outputs": [
    {
     "name": "stdout",
     "output_type": "stream",
     "text": [
      "(5078345, 11)\n"
     ]
    }
   ],
   "source": [
    "print(df.shape)"
   ]
  },
  {
   "cell_type": "code",
   "execution_count": 3,
   "metadata": {},
   "outputs": [
    {
     "name": "stdout",
     "output_type": "stream",
     "text": [
      "Amount Received equals to Amount Paid:\n",
      "False\n",
      "Receiving Currency equals to Payment Currency:\n",
      "False\n"
     ]
    }
   ],
   "source": [
    "print('Amount Received equals to Amount Paid:')\n",
    "print(df['Amount Received'].equals(df['Amount Paid']))\n",
    "print('Receiving Currency equals to Payment Currency:')\n",
    "print(df['Receiving Currency'].equals(df['Payment Currency']))"
   ]
  },
  {
   "cell_type": "code",
   "execution_count": 6,
   "metadata": {},
   "outputs": [
    {
     "name": "stdout",
     "output_type": "stream",
     "text": [
      "Number of rows where 'Amount Received' differs from 'Amount Paid': 72158\n",
      "Number of rows where 'Receiving Currency' differs from 'Payment Currency': 72170\n"
     ]
    }
   ],
   "source": [
    "# Compare Amounts\n",
    "amount_diff = df['Amount Received'] != df['Amount Paid']\n",
    "print(f\"Number of rows where 'Amount Received' differs from 'Amount Paid': {amount_diff.sum()}\")\n",
    "\n",
    "# Compare Currencies\n",
    "currency_diff = df['Receiving Currency'] != df['Payment Currency']\n",
    "print(f\"Number of rows where 'Receiving Currency' differs from 'Payment Currency': {currency_diff.sum()}\")\n"
   ]
  },
  {
   "cell_type": "code",
   "execution_count": 7,
   "metadata": {},
   "outputs": [
    {
     "data": {
      "text/plain": [
       "0          False\n",
       "1          False\n",
       "2          False\n",
       "3          False\n",
       "4          False\n",
       "           ...  \n",
       "5078340    False\n",
       "5078341    False\n",
       "5078342    False\n",
       "5078343    False\n",
       "5078344    False\n",
       "Length: 5078345, dtype: bool"
      ]
     },
     "execution_count": 7,
     "metadata": {},
     "output_type": "execute_result"
    }
   ],
   "source": [
    "amount_diff"
   ]
  }
 ],
 "metadata": {
  "kernelspec": {
   "display_name": "Python 3",
   "language": "python",
   "name": "python3"
  },
  "language_info": {
   "codemirror_mode": {
    "name": "ipython",
    "version": 3
   },
   "file_extension": ".py",
   "mimetype": "text/x-python",
   "name": "python",
   "nbconvert_exporter": "python",
   "pygments_lexer": "ipython3",
   "version": "3.11.0"
  }
 },
 "nbformat": 4,
 "nbformat_minor": 2
}
